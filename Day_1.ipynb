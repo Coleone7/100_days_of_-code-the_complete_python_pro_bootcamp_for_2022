{
  "nbformat": 4,
  "nbformat_minor": 0,
  "metadata": {
    "colab": {
      "provenance": [],
      "collapsed_sections": []
    },
    "kernelspec": {
      "name": "python3",
      "display_name": "Python 3"
    },
    "language_info": {
      "name": "python"
    }
  },
  "cells": [
    {
      "cell_type": "code",
      "execution_count": 3,
      "metadata": {
        "colab": {
          "base_uri": "https://localhost:8080/"
        },
        "id": "O8RLBCv_wx8q",
        "outputId": "8ee7be93-da10-4ac7-9a13-8c792ce8a96b"
      },
      "outputs": [
        {
          "output_type": "stream",
          "name": "stdout",
          "text": [
            "what to print\n"
          ]
        }
      ],
      "source": [
        "#Day 1 - Python Print Function\n",
        "#The function is declared like this:\n",
        "print('Hello World')"
      ]
    },
    {
      "cell_type": "code",
      "source": [
        "\n",
        "print(\"Day 1 - String Manipulation\")\n",
        "print(\"String Concatenation is done with the \"+\" sign.\")\n",
        "print('e.g. print(\"Hello \" + \"world\")')\n",
        "print(\"New lines can be created with a backslash and n.\")\n",
        "\n"
      ],
      "metadata": {
        "colab": {
          "base_uri": "https://localhost:8080/"
        },
        "id": "T1JtSNhbw5Bv",
        "outputId": "64a35da7-9392-40d3-fa6b-18c27450191f"
      },
      "execution_count": 5,
      "outputs": [
        {
          "output_type": "stream",
          "name": "stdout",
          "text": [
            "Day 1 - String Manipulation\n",
            "String Concatenation is done with the  sign.\n",
            "e.g. print(\"Hello \" + \"world\")\n",
            "New lines can be created with a backslash and n.\n"
          ]
        }
      ]
    },
    {
      "cell_type": "code",
      "source": [
        "# Write your code below this line 👇\n",
        "\n",
        "print(len(input(\"What is your name?\")))"
      ],
      "metadata": {
        "id": "pEmUWRcDw9eC",
        "colab": {
          "base_uri": "https://localhost:8080/"
        },
        "outputId": "0d4c249f-c128-4f48-930d-ca90c9292b63"
      },
      "execution_count": 6,
      "outputs": [
        {
          "output_type": "stream",
          "name": "stdout",
          "text": [
            "What is your name?Dante\n",
            "5\n"
          ]
        }
      ]
    },
    {
      "cell_type": "code",
      "source": [
        "# 🚨 Don't change the code below 👇\n",
        "a = input(\"a: \")\n",
        "b = input(\"b: \")\n",
        "# 🚨 Don't change the code above 👆\n",
        "\n",
        "####################################\n",
        "#Write your code below this line 👇\n",
        "\n",
        "\n",
        "c = a\n",
        "a = b\n",
        "b = c \n",
        "\n",
        "\n",
        "\n",
        "\n",
        "#Write your code above this line 👆\n",
        "####################################\n",
        "\n",
        "# 🚨 Don't change the code below 👇\n",
        "print(\"a = \" + a)\n",
        "print(\"b = \" + b)\n",
        "\n"
      ],
      "metadata": {
        "id": "sR4j4rLAxZQO",
        "colab": {
          "base_uri": "https://localhost:8080/"
        },
        "outputId": "91a8470c-a644-4b53-c7c6-b92ae3a9148c"
      },
      "execution_count": 11,
      "outputs": [
        {
          "output_type": "stream",
          "name": "stdout",
          "text": [
            "a: 5\n",
            "b: 100\n",
            "a = 100\n",
            "b = 5\n"
          ]
        }
      ]
    },
    {
      "cell_type": "code",
      "source": [
        "#1. Create a greeting for your program.\n",
        "print('Welcome to the Band Name Generator!')\n",
        "#2. Ask the user for the city that they grew up in.\n",
        "city = input(\"What's name of the city you grew up in?\\n\")\n",
        "#3. Ask the user for the name of a pet.\n",
        "pet = input(\"What's your pet's name?\\n\")\n",
        "#4. Combine the name of their city and pet and show them their band name.\n",
        "print(\"Your band name could be \" + city + \" \" + pet + \"!\")\n",
        "#5. Make sure the input cursor shows on a new line, see the example at:\n",
        "#   https://replit.com/@appbrewery/band-name-generator-end"
      ],
      "metadata": {
        "colab": {
          "base_uri": "https://localhost:8080/"
        },
        "id": "x2CnHz_awAP6",
        "outputId": "fbc55c27-4c51-4b3a-e63b-bb30a2f03522"
      },
      "execution_count": 12,
      "outputs": [
        {
          "output_type": "stream",
          "name": "stdout",
          "text": [
            "Welcome to the Band Name Generator!\n",
            "What's name of the city you grew up in?\n",
            "Ibitinga\n",
            "What's your pet's name?\n",
            "Vida\n",
            "Your band name could be Ibitinga Vida!\n"
          ]
        }
      ]
    },
    {
      "cell_type": "code",
      "source": [],
      "metadata": {
        "id": "FtUihdXFxk-s"
      },
      "execution_count": null,
      "outputs": []
    }
  ]
}