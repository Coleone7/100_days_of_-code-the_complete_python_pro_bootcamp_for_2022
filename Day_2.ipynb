{
  "nbformat": 4,
  "nbformat_minor": 0,
  "metadata": {
    "colab": {
      "provenance": [],
      "collapsed_sections": []
    },
    "kernelspec": {
      "name": "python3",
      "display_name": "Python 3"
    },
    "language_info": {
      "name": "python"
    }
  },
  "cells": [
    {
      "cell_type": "code",
      "execution_count": null,
      "metadata": {
        "colab": {
          "base_uri": "https://localhost:8080/"
        },
        "id": "1r4ZgMk6yEp7",
        "outputId": "7f0259cc-8070-4ca9-c219-50a94cd346e5"
      },
      "outputs": [
        {
          "output_type": "stream",
          "name": "stdout",
          "text": [
            "Type a two digit number: 13\n",
            "4\n"
          ]
        }
      ],
      "source": [
        "# 🚨 Don't change the code below 👇\n",
        "two_digit_number = input(\"Type a two digit number: \")\n",
        "# 🚨 Don't change the code above 👆\n",
        "\n",
        "####################################\n",
        "# Write your code below this line 👇\n",
        "print(int(two_digit_number[0]) + int(two_digit_number[1]))"
      ]
    },
    {
      "cell_type": "code",
      "source": [
        "# 🚨 Don't change the code below 👇\n",
        "height = input(\"enter your height in m: \")\n",
        "weight = input(\"enter your weight in kg: \")\n",
        "# 🚨 Don't change the code above 👆\n",
        "\n",
        "# Write your code below this line 👇\n",
        "imc = float(weight) / (float(height)**2)\n",
        "print(int(imc))"
      ],
      "metadata": {
        "colab": {
          "base_uri": "https://localhost:8080/"
        },
        "id": "IuAXbyzpyJoF",
        "outputId": "31a4b63a-e844-430d-c9a3-bc17433d62b0"
      },
      "execution_count": null,
      "outputs": [
        {
          "output_type": "stream",
          "name": "stdout",
          "text": [
            "enter your height in m: 1.75\n",
            "enter your weight in kg: 93\n",
            "30\n"
          ]
        }
      ]
    },
    {
      "cell_type": "code",
      "source": [
        "# 🚨 Don't change the code below 👇\n",
        "age = input(\"What is your current age? \")\n",
        "# 🚨 Don't change the code above 👆\n",
        "\n",
        "# Write your code below this line 👇\n",
        "years_remainig = 90 - int(age)\n",
        "months_remaining = years_remainig * 12\n",
        "weeks_remaining = years_remainig * 52\n",
        "days_remaining = years_remainig * 365\n",
        "\n",
        "print(\n",
        "    f'You have {days_remaining} days, {weeks_remaining} weeks, and ' +\n",
        "    f'{months_remaining} months left ultil your 90.'\n",
        ")"
      ],
      "metadata": {
        "colab": {
          "base_uri": "https://localhost:8080/"
        },
        "id": "xxZIhQQ7yLNY",
        "outputId": "1cc97796-2f3e-4762-e586-4f4c6ed48e26"
      },
      "execution_count": null,
      "outputs": [
        {
          "output_type": "stream",
          "name": "stdout",
          "text": [
            "What is your current age? 27\n",
            "You have 22995 days, 3276 weeks, and 756 months left ultil your 90.\n"
          ]
        }
      ]
    },
    {
      "cell_type": "code",
      "source": [
        "#If the bill was $150.00, split between 5 people, with 12% tip. \n",
        "\n",
        "#Each person should pay (150.00 / 5) * 1.12 = 33.6\n",
        "#Format the result to 2 decimal places = 33.60\n",
        "\n",
        "#Tip: There are 2 ways to round a number. You might have to do some Googling to solve this.💪\n",
        "\n",
        "#Write your code below this line 👇\n",
        "\n",
        "print('Welcome to the tip calculator!')\n",
        "\n",
        "bill = float(input('What was the total bill? $'))\n",
        "\n",
        "tip_percentage = int(input('What percentage tip would you like to give? ' + '10, 12, or 15? '))\n",
        "total_bill = bill * (1+tip_percentage/100)\n",
        "\n",
        "total_people = int(input('How many people to split the bill? '))\n",
        "\n",
        "total_per_person = round((total_bill / total_people), 2)\n",
        "\n",
        "print(f'Each person should pay: ${total_per_person:.2f}')"
      ],
      "metadata": {
        "id": "7oQ-u-8oyM-X",
        "colab": {
          "base_uri": "https://localhost:8080/"
        },
        "outputId": "980a13eb-33d8-4e44-c465-1721b7a3e57e"
      },
      "execution_count": null,
      "outputs": [
        {
          "output_type": "stream",
          "name": "stdout",
          "text": [
            "Welcome to the tip calculator!\n",
            "What was the total bill? $100\n",
            "What percentage tip would you like to give? 10, 12, or 15? 10\n",
            "How many people to split the bill? 3\n",
            "Each person should pay: $36.67\n"
          ]
        }
      ]
    },
    {
      "cell_type": "code",
      "source": [],
      "metadata": {
        "id": "lDkdqZY7z259"
      },
      "execution_count": null,
      "outputs": []
    }
  ]
}